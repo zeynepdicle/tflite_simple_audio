{
  "nbformat": 4,
  "nbformat_minor": 0,
  "metadata": {
    "colab": {
      "name": "basicModelTFlite.ipynb",
      "provenance": [],
      "authorship_tag": "ABX9TyMC52JWVBNu1z91ikmfDAIo",
      "include_colab_link": true
    },
    "kernelspec": {
      "name": "python3",
      "display_name": "Python 3"
    },
    "language_info": {
      "name": "python"
    }
  },
  "cells": [
    {
      "cell_type": "markdown",
      "metadata": {
        "id": "view-in-github",
        "colab_type": "text"
      },
      "source": [
        "<a href=\"https://colab.research.google.com/github/zeynepdicle/tflite_simple_audio/blob/main/basicModelTFlite.ipynb\" target=\"_parent\"><img src=\"https://colab.research.google.com/assets/colab-badge.svg\" alt=\"Open In Colab\"/></a>"
      ]
    },
    {
      "cell_type": "code",
      "metadata": {
        "colab": {
          "base_uri": "https://localhost:8080/"
        },
        "id": "5muKlyQPkw8p",
        "outputId": "136a356f-ac45-4fb1-8969-a03013c00b21"
      },
      "source": [
        "!pip install -q -U \"tensorflow-gpu==2.0.0b1\""
      ],
      "execution_count": 13,
      "outputs": [
        {
          "output_type": "stream",
          "name": "stdout",
          "text": [
            "\u001b[K     |████████████████████████████████| 349.7 MB 36 kB/s \n",
            "\u001b[K     |████████████████████████████████| 50 kB 7.6 MB/s \n",
            "\u001b[K     |████████████████████████████████| 3.1 MB 46.3 MB/s \n",
            "\u001b[K     |████████████████████████████████| 496 kB 48.3 MB/s \n",
            "\u001b[?25h"
          ]
        }
      ]
    },
    {
      "cell_type": "code",
      "metadata": {
        "id": "d1Mr8f3_lBKZ"
      },
      "source": [
        "%matplotlib inline\n",
        "\n",
        "import pathlib\n",
        "import numpy as np\n",
        "import matplotlib.pyplot as plt\n",
        "\n",
        "import tensorflow as tf\n",
        "from tensorflow.keras.models import Model\n",
        "from tensorflow.keras.layers import Input\n",
        "\n",
        "from google.colab import files"
      ],
      "execution_count": 14,
      "outputs": []
    },
    {
      "cell_type": "code",
      "metadata": {
        "colab": {
          "base_uri": "https://localhost:8080/"
        },
        "id": "_MRSemuol6dK",
        "outputId": "1057f700-e4a5-4fd4-8bb7-4e0a3f40a2d9"
      },
      "source": [
        "# Create a simple Keras model.\n",
        "x = [-1, 0, 1, 2, 3, 4]\n",
        "y = [-3, -1, 1, 3, 5, 7]\n",
        "\n",
        "model = tf.keras.models.Sequential([\n",
        "    tf.keras.layers.Dense(units=1, input_shape=[1])\n",
        "])\n",
        "model.compile(optimizer='sgd', loss='mean_squared_error')\n",
        "model.fit(x, y, epochs=200)"
      ],
      "execution_count": 15,
      "outputs": [
        {
          "output_type": "stream",
          "name": "stdout",
          "text": [
            "Epoch 1/200\n",
            "1/1 [==============================] - 0s 214ms/step - loss: 0.5654\n",
            "Epoch 2/200\n",
            "1/1 [==============================] - 0s 7ms/step - loss: 0.5518\n",
            "Epoch 3/200\n",
            "1/1 [==============================] - 0s 4ms/step - loss: 0.5388\n",
            "Epoch 4/200\n",
            "1/1 [==============================] - 0s 6ms/step - loss: 0.5265\n",
            "Epoch 5/200\n",
            "1/1 [==============================] - 0s 5ms/step - loss: 0.5147\n",
            "Epoch 6/200\n",
            "1/1 [==============================] - 0s 6ms/step - loss: 0.5034\n",
            "Epoch 7/200\n",
            "1/1 [==============================] - 0s 3ms/step - loss: 0.4924\n",
            "Epoch 8/200\n",
            "1/1 [==============================] - 0s 8ms/step - loss: 0.4818\n",
            "Epoch 9/200\n",
            "1/1 [==============================] - 0s 24ms/step - loss: 0.4715\n",
            "Epoch 10/200\n",
            "1/1 [==============================] - 0s 6ms/step - loss: 0.4616\n",
            "Epoch 11/200\n",
            "1/1 [==============================] - 0s 6ms/step - loss: 0.4518\n",
            "Epoch 12/200\n",
            "1/1 [==============================] - 0s 4ms/step - loss: 0.4424\n",
            "Epoch 13/200\n",
            "1/1 [==============================] - 0s 4ms/step - loss: 0.4331\n",
            "Epoch 14/200\n",
            "1/1 [==============================] - 0s 5ms/step - loss: 0.4241\n",
            "Epoch 15/200\n",
            "1/1 [==============================] - 0s 6ms/step - loss: 0.4153\n",
            "Epoch 16/200\n",
            "1/1 [==============================] - 0s 5ms/step - loss: 0.4067\n",
            "Epoch 17/200\n",
            "1/1 [==============================] - 0s 4ms/step - loss: 0.3983\n",
            "Epoch 18/200\n",
            "1/1 [==============================] - 0s 5ms/step - loss: 0.3901\n",
            "Epoch 19/200\n",
            "1/1 [==============================] - 0s 6ms/step - loss: 0.3820\n",
            "Epoch 20/200\n",
            "1/1 [==============================] - 0s 6ms/step - loss: 0.3742\n",
            "Epoch 21/200\n",
            "1/1 [==============================] - 0s 4ms/step - loss: 0.3665\n",
            "Epoch 22/200\n",
            "1/1 [==============================] - 0s 5ms/step - loss: 0.3589\n",
            "Epoch 23/200\n",
            "1/1 [==============================] - 0s 13ms/step - loss: 0.3515\n",
            "Epoch 24/200\n",
            "1/1 [==============================] - 0s 9ms/step - loss: 0.3443\n",
            "Epoch 25/200\n",
            "1/1 [==============================] - 0s 8ms/step - loss: 0.3372\n",
            "Epoch 26/200\n",
            "1/1 [==============================] - 0s 8ms/step - loss: 0.3303\n",
            "Epoch 27/200\n",
            "1/1 [==============================] - 0s 9ms/step - loss: 0.3235\n",
            "Epoch 28/200\n",
            "1/1 [==============================] - 0s 7ms/step - loss: 0.3169\n",
            "Epoch 29/200\n",
            "1/1 [==============================] - 0s 5ms/step - loss: 0.3103\n",
            "Epoch 30/200\n",
            "1/1 [==============================] - 0s 5ms/step - loss: 0.3040\n",
            "Epoch 31/200\n",
            "1/1 [==============================] - 0s 5ms/step - loss: 0.2977\n",
            "Epoch 32/200\n",
            "1/1 [==============================] - 0s 5ms/step - loss: 0.2916\n",
            "Epoch 33/200\n",
            "1/1 [==============================] - 0s 4ms/step - loss: 0.2856\n",
            "Epoch 34/200\n",
            "1/1 [==============================] - 0s 6ms/step - loss: 0.2797\n",
            "Epoch 35/200\n",
            "1/1 [==============================] - 0s 5ms/step - loss: 0.2740\n",
            "Epoch 36/200\n",
            "1/1 [==============================] - 0s 3ms/step - loss: 0.2684\n",
            "Epoch 37/200\n",
            "1/1 [==============================] - 0s 4ms/step - loss: 0.2629\n",
            "Epoch 38/200\n",
            "1/1 [==============================] - 0s 7ms/step - loss: 0.2575\n",
            "Epoch 39/200\n",
            "1/1 [==============================] - 0s 4ms/step - loss: 0.2522\n",
            "Epoch 40/200\n",
            "1/1 [==============================] - 0s 4ms/step - loss: 0.2470\n",
            "Epoch 41/200\n",
            "1/1 [==============================] - 0s 7ms/step - loss: 0.2419\n",
            "Epoch 42/200\n",
            "1/1 [==============================] - 0s 4ms/step - loss: 0.2369\n",
            "Epoch 43/200\n",
            "1/1 [==============================] - 0s 4ms/step - loss: 0.2321\n",
            "Epoch 44/200\n",
            "1/1 [==============================] - 0s 6ms/step - loss: 0.2273\n",
            "Epoch 45/200\n",
            "1/1 [==============================] - 0s 9ms/step - loss: 0.2226\n",
            "Epoch 46/200\n",
            "1/1 [==============================] - 0s 4ms/step - loss: 0.2181\n",
            "Epoch 47/200\n",
            "1/1 [==============================] - 0s 12ms/step - loss: 0.2136\n",
            "Epoch 48/200\n",
            "1/1 [==============================] - 0s 4ms/step - loss: 0.2092\n",
            "Epoch 49/200\n",
            "1/1 [==============================] - 0s 4ms/step - loss: 0.2049\n",
            "Epoch 50/200\n",
            "1/1 [==============================] - 0s 4ms/step - loss: 0.2007\n",
            "Epoch 51/200\n",
            "1/1 [==============================] - 0s 5ms/step - loss: 0.1966\n",
            "Epoch 52/200\n",
            "1/1 [==============================] - 0s 6ms/step - loss: 0.1925\n",
            "Epoch 53/200\n",
            "1/1 [==============================] - 0s 6ms/step - loss: 0.1886\n",
            "Epoch 54/200\n",
            "1/1 [==============================] - 0s 3ms/step - loss: 0.1847\n",
            "Epoch 55/200\n",
            "1/1 [==============================] - 0s 3ms/step - loss: 0.1809\n",
            "Epoch 56/200\n",
            "1/1 [==============================] - 0s 4ms/step - loss: 0.1772\n",
            "Epoch 57/200\n",
            "1/1 [==============================] - 0s 5ms/step - loss: 0.1736\n",
            "Epoch 58/200\n",
            "1/1 [==============================] - 0s 5ms/step - loss: 0.1700\n",
            "Epoch 59/200\n",
            "1/1 [==============================] - 0s 7ms/step - loss: 0.1665\n",
            "Epoch 60/200\n",
            "1/1 [==============================] - 0s 4ms/step - loss: 0.1631\n",
            "Epoch 61/200\n",
            "1/1 [==============================] - 0s 3ms/step - loss: 0.1597\n",
            "Epoch 62/200\n",
            "1/1 [==============================] - 0s 4ms/step - loss: 0.1565\n",
            "Epoch 63/200\n",
            "1/1 [==============================] - 0s 5ms/step - loss: 0.1532\n",
            "Epoch 64/200\n",
            "1/1 [==============================] - 0s 8ms/step - loss: 0.1501\n",
            "Epoch 65/200\n",
            "1/1 [==============================] - 0s 5ms/step - loss: 0.1470\n",
            "Epoch 66/200\n",
            "1/1 [==============================] - 0s 11ms/step - loss: 0.1440\n",
            "Epoch 67/200\n",
            "1/1 [==============================] - 0s 6ms/step - loss: 0.1410\n",
            "Epoch 68/200\n",
            "1/1 [==============================] - 0s 6ms/step - loss: 0.1381\n",
            "Epoch 69/200\n",
            "1/1 [==============================] - 0s 5ms/step - loss: 0.1353\n",
            "Epoch 70/200\n",
            "1/1 [==============================] - 0s 4ms/step - loss: 0.1325\n",
            "Epoch 71/200\n",
            "1/1 [==============================] - 0s 10ms/step - loss: 0.1298\n",
            "Epoch 72/200\n",
            "1/1 [==============================] - 0s 7ms/step - loss: 0.1271\n",
            "Epoch 73/200\n",
            "1/1 [==============================] - 0s 5ms/step - loss: 0.1245\n",
            "Epoch 74/200\n",
            "1/1 [==============================] - 0s 5ms/step - loss: 0.1220\n",
            "Epoch 75/200\n",
            "1/1 [==============================] - 0s 4ms/step - loss: 0.1195\n",
            "Epoch 76/200\n",
            "1/1 [==============================] - 0s 4ms/step - loss: 0.1170\n",
            "Epoch 77/200\n",
            "1/1 [==============================] - 0s 4ms/step - loss: 0.1146\n",
            "Epoch 78/200\n",
            "1/1 [==============================] - 0s 5ms/step - loss: 0.1122\n",
            "Epoch 79/200\n",
            "1/1 [==============================] - 0s 4ms/step - loss: 0.1099\n",
            "Epoch 80/200\n",
            "1/1 [==============================] - 0s 4ms/step - loss: 0.1077\n",
            "Epoch 81/200\n",
            "1/1 [==============================] - 0s 5ms/step - loss: 0.1055\n",
            "Epoch 82/200\n",
            "1/1 [==============================] - 0s 5ms/step - loss: 0.1033\n",
            "Epoch 83/200\n",
            "1/1 [==============================] - 0s 4ms/step - loss: 0.1012\n",
            "Epoch 84/200\n",
            "1/1 [==============================] - 0s 5ms/step - loss: 0.0991\n",
            "Epoch 85/200\n",
            "1/1 [==============================] - 0s 5ms/step - loss: 0.0971\n",
            "Epoch 86/200\n",
            "1/1 [==============================] - 0s 6ms/step - loss: 0.0951\n",
            "Epoch 87/200\n",
            "1/1 [==============================] - 0s 6ms/step - loss: 0.0931\n",
            "Epoch 88/200\n",
            "1/1 [==============================] - 0s 6ms/step - loss: 0.0912\n",
            "Epoch 89/200\n",
            "1/1 [==============================] - 0s 4ms/step - loss: 0.0893\n",
            "Epoch 90/200\n",
            "1/1 [==============================] - 0s 4ms/step - loss: 0.0875\n",
            "Epoch 91/200\n",
            "1/1 [==============================] - 0s 4ms/step - loss: 0.0857\n",
            "Epoch 92/200\n",
            "1/1 [==============================] - 0s 6ms/step - loss: 0.0839\n",
            "Epoch 93/200\n",
            "1/1 [==============================] - 0s 8ms/step - loss: 0.0822\n",
            "Epoch 94/200\n",
            "1/1 [==============================] - 0s 4ms/step - loss: 0.0805\n",
            "Epoch 95/200\n",
            "1/1 [==============================] - 0s 7ms/step - loss: 0.0789\n",
            "Epoch 96/200\n",
            "1/1 [==============================] - 0s 4ms/step - loss: 0.0773\n",
            "Epoch 97/200\n",
            "1/1 [==============================] - 0s 5ms/step - loss: 0.0757\n",
            "Epoch 98/200\n",
            "1/1 [==============================] - 0s 6ms/step - loss: 0.0741\n",
            "Epoch 99/200\n",
            "1/1 [==============================] - 0s 6ms/step - loss: 0.0726\n",
            "Epoch 100/200\n",
            "1/1 [==============================] - 0s 6ms/step - loss: 0.0711\n",
            "Epoch 101/200\n",
            "1/1 [==============================] - 0s 5ms/step - loss: 0.0696\n",
            "Epoch 102/200\n",
            "1/1 [==============================] - 0s 5ms/step - loss: 0.0682\n",
            "Epoch 103/200\n",
            "1/1 [==============================] - 0s 5ms/step - loss: 0.0668\n",
            "Epoch 104/200\n",
            "1/1 [==============================] - 0s 5ms/step - loss: 0.0654\n",
            "Epoch 105/200\n",
            "1/1 [==============================] - 0s 5ms/step - loss: 0.0641\n",
            "Epoch 106/200\n",
            "1/1 [==============================] - 0s 5ms/step - loss: 0.0628\n",
            "Epoch 107/200\n",
            "1/1 [==============================] - 0s 6ms/step - loss: 0.0615\n",
            "Epoch 108/200\n",
            "1/1 [==============================] - 0s 4ms/step - loss: 0.0602\n",
            "Epoch 109/200\n",
            "1/1 [==============================] - 0s 5ms/step - loss: 0.0590\n",
            "Epoch 110/200\n",
            "1/1 [==============================] - 0s 6ms/step - loss: 0.0578\n",
            "Epoch 111/200\n",
            "1/1 [==============================] - 0s 5ms/step - loss: 0.0566\n",
            "Epoch 112/200\n",
            "1/1 [==============================] - 0s 8ms/step - loss: 0.0554\n",
            "Epoch 113/200\n",
            "1/1 [==============================] - 0s 8ms/step - loss: 0.0543\n",
            "Epoch 114/200\n",
            "1/1 [==============================] - 0s 5ms/step - loss: 0.0532\n",
            "Epoch 115/200\n",
            "1/1 [==============================] - 0s 5ms/step - loss: 0.0521\n",
            "Epoch 116/200\n",
            "1/1 [==============================] - 0s 4ms/step - loss: 0.0510\n",
            "Epoch 117/200\n",
            "1/1 [==============================] - 0s 4ms/step - loss: 0.0500\n",
            "Epoch 118/200\n",
            "1/1 [==============================] - 0s 4ms/step - loss: 0.0489\n",
            "Epoch 119/200\n",
            "1/1 [==============================] - 0s 11ms/step - loss: 0.0479\n",
            "Epoch 120/200\n",
            "1/1 [==============================] - 0s 8ms/step - loss: 0.0469\n",
            "Epoch 121/200\n",
            "1/1 [==============================] - 0s 4ms/step - loss: 0.0460\n",
            "Epoch 122/200\n",
            "1/1 [==============================] - 0s 4ms/step - loss: 0.0450\n",
            "Epoch 123/200\n",
            "1/1 [==============================] - 0s 8ms/step - loss: 0.0441\n",
            "Epoch 124/200\n",
            "1/1 [==============================] - 0s 6ms/step - loss: 0.0432\n",
            "Epoch 125/200\n",
            "1/1 [==============================] - 0s 4ms/step - loss: 0.0423\n",
            "Epoch 126/200\n",
            "1/1 [==============================] - 0s 6ms/step - loss: 0.0414\n",
            "Epoch 127/200\n",
            "1/1 [==============================] - 0s 4ms/step - loss: 0.0406\n",
            "Epoch 128/200\n",
            "1/1 [==============================] - 0s 8ms/step - loss: 0.0398\n",
            "Epoch 129/200\n",
            "1/1 [==============================] - 0s 4ms/step - loss: 0.0389\n",
            "Epoch 130/200\n",
            "1/1 [==============================] - 0s 4ms/step - loss: 0.0381\n",
            "Epoch 131/200\n",
            "1/1 [==============================] - 0s 5ms/step - loss: 0.0374\n",
            "Epoch 132/200\n",
            "1/1 [==============================] - 0s 4ms/step - loss: 0.0366\n",
            "Epoch 133/200\n",
            "1/1 [==============================] - 0s 3ms/step - loss: 0.0358\n",
            "Epoch 134/200\n",
            "1/1 [==============================] - 0s 3ms/step - loss: 0.0351\n",
            "Epoch 135/200\n",
            "1/1 [==============================] - 0s 4ms/step - loss: 0.0344\n",
            "Epoch 136/200\n",
            "1/1 [==============================] - 0s 10ms/step - loss: 0.0337\n",
            "Epoch 137/200\n",
            "1/1 [==============================] - 0s 5ms/step - loss: 0.0330\n",
            "Epoch 138/200\n",
            "1/1 [==============================] - 0s 6ms/step - loss: 0.0323\n",
            "Epoch 139/200\n",
            "1/1 [==============================] - 0s 7ms/step - loss: 0.0316\n",
            "Epoch 140/200\n",
            "1/1 [==============================] - 0s 10ms/step - loss: 0.0310\n",
            "Epoch 141/200\n",
            "1/1 [==============================] - 0s 4ms/step - loss: 0.0304\n",
            "Epoch 142/200\n",
            "1/1 [==============================] - 0s 7ms/step - loss: 0.0297\n",
            "Epoch 143/200\n",
            "1/1 [==============================] - 0s 7ms/step - loss: 0.0291\n",
            "Epoch 144/200\n",
            "1/1 [==============================] - 0s 8ms/step - loss: 0.0285\n",
            "Epoch 145/200\n",
            "1/1 [==============================] - 0s 7ms/step - loss: 0.0279\n",
            "Epoch 146/200\n",
            "1/1 [==============================] - 0s 4ms/step - loss: 0.0274\n",
            "Epoch 147/200\n",
            "1/1 [==============================] - 0s 7ms/step - loss: 0.0268\n",
            "Epoch 148/200\n",
            "1/1 [==============================] - 0s 4ms/step - loss: 0.0263\n",
            "Epoch 149/200\n",
            "1/1 [==============================] - 0s 5ms/step - loss: 0.0257\n",
            "Epoch 150/200\n",
            "1/1 [==============================] - 0s 4ms/step - loss: 0.0252\n",
            "Epoch 151/200\n",
            "1/1 [==============================] - 0s 6ms/step - loss: 0.0247\n",
            "Epoch 152/200\n",
            "1/1 [==============================] - 0s 3ms/step - loss: 0.0242\n",
            "Epoch 153/200\n",
            "1/1 [==============================] - 0s 4ms/step - loss: 0.0237\n",
            "Epoch 154/200\n",
            "1/1 [==============================] - 0s 6ms/step - loss: 0.0232\n",
            "Epoch 155/200\n",
            "1/1 [==============================] - 0s 4ms/step - loss: 0.0227\n",
            "Epoch 156/200\n",
            "1/1 [==============================] - 0s 10ms/step - loss: 0.0222\n",
            "Epoch 157/200\n",
            "1/1 [==============================] - 0s 4ms/step - loss: 0.0218\n",
            "Epoch 158/200\n",
            "1/1 [==============================] - 0s 4ms/step - loss: 0.0213\n",
            "Epoch 159/200\n",
            "1/1 [==============================] - 0s 10ms/step - loss: 0.0209\n",
            "Epoch 160/200\n",
            "1/1 [==============================] - 0s 5ms/step - loss: 0.0205\n",
            "Epoch 161/200\n",
            "1/1 [==============================] - 0s 6ms/step - loss: 0.0200\n",
            "Epoch 162/200\n",
            "1/1 [==============================] - 0s 5ms/step - loss: 0.0196\n",
            "Epoch 163/200\n",
            "1/1 [==============================] - 0s 4ms/step - loss: 0.0192\n",
            "Epoch 164/200\n",
            "1/1 [==============================] - 0s 6ms/step - loss: 0.0188\n",
            "Epoch 165/200\n",
            "1/1 [==============================] - 0s 8ms/step - loss: 0.0184\n",
            "Epoch 166/200\n",
            "1/1 [==============================] - 0s 5ms/step - loss: 0.0181\n",
            "Epoch 167/200\n",
            "1/1 [==============================] - 0s 5ms/step - loss: 0.0177\n",
            "Epoch 168/200\n",
            "1/1 [==============================] - 0s 4ms/step - loss: 0.0173\n",
            "Epoch 169/200\n",
            "1/1 [==============================] - 0s 5ms/step - loss: 0.0170\n",
            "Epoch 170/200\n",
            "1/1 [==============================] - 0s 5ms/step - loss: 0.0166\n",
            "Epoch 171/200\n",
            "1/1 [==============================] - 0s 4ms/step - loss: 0.0163\n",
            "Epoch 172/200\n",
            "1/1 [==============================] - 0s 5ms/step - loss: 0.0160\n",
            "Epoch 173/200\n",
            "1/1 [==============================] - 0s 4ms/step - loss: 0.0156\n",
            "Epoch 174/200\n",
            "1/1 [==============================] - 0s 8ms/step - loss: 0.0153\n",
            "Epoch 175/200\n",
            "1/1 [==============================] - 0s 6ms/step - loss: 0.0150\n",
            "Epoch 176/200\n",
            "1/1 [==============================] - 0s 6ms/step - loss: 0.0147\n",
            "Epoch 177/200\n",
            "1/1 [==============================] - 0s 4ms/step - loss: 0.0144\n",
            "Epoch 178/200\n",
            "1/1 [==============================] - 0s 5ms/step - loss: 0.0141\n",
            "Epoch 179/200\n",
            "1/1 [==============================] - 0s 6ms/step - loss: 0.0138\n",
            "Epoch 180/200\n",
            "1/1 [==============================] - 0s 6ms/step - loss: 0.0135\n",
            "Epoch 181/200\n",
            "1/1 [==============================] - 0s 9ms/step - loss: 0.0132\n",
            "Epoch 182/200\n",
            "1/1 [==============================] - 0s 8ms/step - loss: 0.0130\n",
            "Epoch 183/200\n",
            "1/1 [==============================] - 0s 4ms/step - loss: 0.0127\n",
            "Epoch 184/200\n",
            "1/1 [==============================] - 0s 4ms/step - loss: 0.0124\n",
            "Epoch 185/200\n",
            "1/1 [==============================] - 0s 4ms/step - loss: 0.0122\n",
            "Epoch 186/200\n",
            "1/1 [==============================] - 0s 4ms/step - loss: 0.0119\n",
            "Epoch 187/200\n",
            "1/1 [==============================] - 0s 4ms/step - loss: 0.0117\n",
            "Epoch 188/200\n",
            "1/1 [==============================] - 0s 8ms/step - loss: 0.0114\n",
            "Epoch 189/200\n",
            "1/1 [==============================] - 0s 6ms/step - loss: 0.0112\n",
            "Epoch 190/200\n",
            "1/1 [==============================] - 0s 8ms/step - loss: 0.0110\n",
            "Epoch 191/200\n",
            "1/1 [==============================] - 0s 4ms/step - loss: 0.0108\n",
            "Epoch 192/200\n",
            "1/1 [==============================] - 0s 4ms/step - loss: 0.0105\n",
            "Epoch 193/200\n",
            "1/1 [==============================] - 0s 5ms/step - loss: 0.0103\n",
            "Epoch 194/200\n",
            "1/1 [==============================] - 0s 4ms/step - loss: 0.0101\n",
            "Epoch 195/200\n",
            "1/1 [==============================] - 0s 6ms/step - loss: 0.0099\n",
            "Epoch 196/200\n",
            "1/1 [==============================] - 0s 5ms/step - loss: 0.0097\n",
            "Epoch 197/200\n",
            "1/1 [==============================] - 0s 12ms/step - loss: 0.0095\n",
            "Epoch 198/200\n",
            "1/1 [==============================] - 0s 4ms/step - loss: 0.0093\n",
            "Epoch 199/200\n",
            "1/1 [==============================] - 0s 4ms/step - loss: 0.0091\n",
            "Epoch 200/200\n",
            "1/1 [==============================] - 0s 8ms/step - loss: 0.0089\n"
          ]
        },
        {
          "output_type": "execute_result",
          "data": {
            "text/plain": [
              "<keras.callbacks.History at 0x7f8a47448390>"
            ]
          },
          "metadata": {},
          "execution_count": 15
        }
      ]
    },
    {
      "cell_type": "code",
      "metadata": {
        "colab": {
          "base_uri": "https://localhost:8080/"
        },
        "id": "Fx-IIjPTmi0R",
        "outputId": "2bed1e97-d992-4b69-8c0b-5032183c4d3e"
      },
      "source": [
        "#generate a saved model in TF format\n",
        "export_dir = 'saved_model/1'\n",
        "tf.saved_model.save(model, export_dir)"
      ],
      "execution_count": 16,
      "outputs": [
        {
          "output_type": "stream",
          "name": "stdout",
          "text": [
            "INFO:tensorflow:Assets written to: saved_model/1/assets\n"
          ]
        }
      ]
    },
    {
      "cell_type": "code",
      "metadata": {
        "id": "xKxdhXkEnjUa"
      },
      "source": [
        "#converd the model to TFlite\n",
        "converter = tf.lite.TFLiteConverter.from_saved_model(export_dir)\n",
        "tflite_model = converter.convert()"
      ],
      "execution_count": 17,
      "outputs": []
    },
    {
      "cell_type": "code",
      "metadata": {
        "colab": {
          "base_uri": "https://localhost:8080/"
        },
        "id": "xglnm64PoNVn",
        "outputId": "005866ba-dd9f-43eb-e81f-1fa5d8f055dc"
      },
      "source": [
        "tflite_model_file = pathlib.Path('model.tflite')\n",
        "tflite_model_file.write_bytes(tflite_model)"
      ],
      "execution_count": 18,
      "outputs": [
        {
          "output_type": "execute_result",
          "data": {
            "text/plain": [
              "916"
            ]
          },
          "metadata": {},
          "execution_count": 18
        }
      ]
    },
    {
      "cell_type": "code",
      "metadata": {
        "id": "qkgT3yUWo7j0"
      },
      "source": [
        "# Load TFLite model and allocate tensors.\n",
        "interpreter = tf.lite.Interpreter(model_content=tflite_model)\n",
        "interpreter.allocate_tensors()\n",
        "\n",
        "# Get input and output tensors.\n",
        "input_details = interpreter.get_input_details()\n",
        "output_details = interpreter.get_output_details()"
      ],
      "execution_count": 19,
      "outputs": []
    },
    {
      "cell_type": "code",
      "metadata": {
        "id": "3HiuMGpkpHrZ"
      },
      "source": [
        "# Test the TensorFlow Lite model on random input data.\n",
        "input_shape = input_details[0]['shape']\n",
        "inputs, outputs = [], []\n",
        "for _ in range(100):\n",
        "  input_data = np.array(np.random.random_sample(input_shape), dtype=np.float32)\n",
        "  interpreter.set_tensor(input_details[0]['index'], input_data)\n",
        "\n",
        "  interpreter.invoke()\n",
        "  tflite_results = interpreter.get_tensor(output_details[0]['index'])\n",
        "\n",
        "  # Test the TensorFlow model on random input data.\n",
        "  tf_results = model(tf.constant(input_data))\n",
        "  output_data = np.array(tf_results)\n",
        "  \n",
        "  inputs.append(input_data[0][0])\n",
        "  outputs.append(output_data[0][0])"
      ],
      "execution_count": 20,
      "outputs": []
    },
    {
      "cell_type": "code",
      "metadata": {
        "colab": {
          "base_uri": "https://localhost:8080/",
          "height": 265
        },
        "id": "rBce7O0RpOoS",
        "outputId": "a4d9b254-8660-4f07-f60f-336ce821e78a"
      },
      "source": [
        "#Visualize the model\n",
        "plt.plot(inputs, outputs, 'r')\n",
        "plt.show()"
      ],
      "execution_count": 21,
      "outputs": [
        {
          "output_type": "display_data",
          "data": {
            "image/png": "[encoded data removed]",
            "text/plain": [
              "<Figure size 432x288 with 1 Axes>"
            ]
          },
          "metadata": {
            "needs_background": "light"
          }
        }
      ]
    },
    {
      "cell_type": "code",
      "metadata": {
        "colab": {
          "base_uri": "https://localhost:8080/",
          "height": 17
        },
        "id": "Y68-0aEzpVMx",
        "outputId": "90380bb0-e669-4dc6-b5a6-10fd4e9739d8"
      },
      "source": [
        "#Download the TFLite model file\n",
        "try:\n",
        "  from google.colab import files\n",
        "  files.download(tflite_model_file)\n",
        "except:\n",
        "  pass"
      ],
      "execution_count": 22,
      "outputs": [
        {
          "output_type": "display_data",
          "data": {
            "application/javascript": [
              "\n",
              "    async function download(id, filename, size) {\n",
              "      if (!google.colab.kernel.accessAllowed) {\n",
              "        return;\n",
              "      }\n",
              "      const div = document.createElement('div');\n",
              "      const label = document.createElement('label');\n",
              "      label.textContent = `Downloading \"${filename}\": `;\n",
              "      div.appendChild(label);\n",
              "      const progress = document.createElement('progress');\n",
              "      progress.max = size;\n",
              "      div.appendChild(progress);\n",
              "      document.body.appendChild(div);\n",
              "\n",
              "      const buffers = [];\n",
              "      let downloaded = 0;\n",
              "\n",
              "      const channel = await google.colab.kernel.comms.open(id);\n",
              "      // Send a message to notify the kernel that we're ready.\n",
              "      channel.send({})\n",
              "\n",
              "      for await (const message of channel.messages) {\n",
              "        // Send a message to notify the kernel that we're ready.\n",
              "        channel.send({})\n",
              "        if (message.buffers) {\n",
              "          for (const buffer of message.buffers) {\n",
              "            buffers.push(buffer);\n",
              "            downloaded += buffer.byteLength;\n",
              "            progress.value = downloaded;\n",
              "          }\n",
              "        }\n",
              "      }\n",
              "      const blob = new Blob(buffers, {type: 'application/binary'});\n",
              "      const a = document.createElement('a');\n",
              "      a.href = window.URL.createObjectURL(blob);\n",
              "      a.download = filename;\n",
              "      div.appendChild(a);\n",
              "      a.click();\n",
              "      div.remove();\n",
              "    }\n",
              "  "
            ],
            "text/plain": [
              "<IPython.core.display.Javascript object>"
            ]
          },
          "metadata": {}
        },
        {
          "output_type": "display_data",
          "data": {
            "application/javascript": [
              "download(\"download_95aec3cf-1b55-4bf5-8a09-990f560651f0\", \"model.tflite\", 916)"
            ],
            "text/plain": [
              "<IPython.core.display.Javascript object>"
            ]
          },
          "metadata": {}
        }
      ]
    }
  ]
}